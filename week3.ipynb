{
 "cells": [
  {
   "cell_type": "markdown",
   "source": [
    "# 3주차\n",
    "1. enumerate의 용도?\n",
    "2. zip 함수의 기능?\n",
    "3. dict 자료형의 특징?"
   ],
   "metadata": {
    "collapsed": false
   },
   "id": "6e77e21e07e3f906"
  },
  {
   "cell_type": "markdown",
   "source": [
    "## enumerate"
   ],
   "metadata": {
    "collapsed": false
   },
   "id": "917aa385014cc2ab"
  },
  {
   "cell_type": "code",
   "execution_count": 44,
   "outputs": [],
   "source": [
    "# 빈 Dictionary를 만듬\n",
    "some_list = ['foo','bar','baz']\n",
    "mapping = {}"
   ],
   "metadata": {
    "collapsed": false,
    "ExecuteTime": {
     "end_time": "2023-09-17T05:55:34.394600Z",
     "start_time": "2023-09-17T05:55:34.367355Z"
    }
   },
   "id": "bce7f9d8b3b1951a"
  },
  {
   "cell_type": "code",
   "execution_count": 45,
   "outputs": [],
   "source": [
    "for i,v in enumerate(some_list):\n",
    "    mapping[v] = i    "
   ],
   "metadata": {
    "collapsed": false,
    "ExecuteTime": {
     "end_time": "2023-09-17T05:55:34.400109Z",
     "start_time": "2023-09-17T05:55:34.371547Z"
    }
   },
   "id": "5f3992128c2cd1f"
  },
  {
   "cell_type": "code",
   "execution_count": 46,
   "outputs": [
    {
     "data": {
      "text/plain": "{'foo': 0, 'bar': 1, 'baz': 2}"
     },
     "execution_count": 46,
     "metadata": {},
     "output_type": "execute_result"
    }
   ],
   "source": [
    "mapping"
   ],
   "metadata": {
    "collapsed": false,
    "ExecuteTime": {
     "end_time": "2023-09-17T05:55:34.403456Z",
     "start_time": "2023-09-17T05:55:34.374425Z"
    }
   },
   "id": "35766fb10407485e"
  },
  {
   "cell_type": "markdown",
   "source": [
    "## Sorted"
   ],
   "metadata": {
    "collapsed": false
   },
   "id": "6498f432face0e23"
  },
  {
   "cell_type": "code",
   "execution_count": 47,
   "outputs": [
    {
     "data": {
      "text/plain": "[0, 1, 2, 2, 3, 6, 7]"
     },
     "execution_count": 47,
     "metadata": {},
     "output_type": "execute_result"
    }
   ],
   "source": [
    "sorted([7,1,2,6,0,3,2])"
   ],
   "metadata": {
    "collapsed": false,
    "ExecuteTime": {
     "end_time": "2023-09-17T05:55:34.409286Z",
     "start_time": "2023-09-17T05:55:34.379070Z"
    }
   },
   "id": "890e5ea849c34aff"
  },
  {
   "cell_type": "markdown",
   "source": [
    "## zip\n",
    "##### zip 함수는 여러개의 리스트나 또는 다른 순차 자료형을 서로 짝지어서 '짝지어진 순차 자료형'이라 말할수 있는 zip object (튜플) 를 생성한다. "
   ],
   "metadata": {
    "collapsed": false
   },
   "id": "675ab0b5bba9a781"
  },
  {
   "cell_type": "code",
   "execution_count": 48,
   "outputs": [],
   "source": [
    "seq1 = ['foo','bar','baz']"
   ],
   "metadata": {
    "collapsed": false,
    "ExecuteTime": {
     "end_time": "2023-09-17T05:55:34.443755Z",
     "start_time": "2023-09-17T05:55:34.382978Z"
    }
   },
   "id": "c99aed066c2d391e"
  },
  {
   "cell_type": "code",
   "execution_count": 49,
   "outputs": [],
   "source": [
    "seq2 = ['one','two','three']"
   ],
   "metadata": {
    "collapsed": false,
    "ExecuteTime": {
     "end_time": "2023-09-17T05:55:34.448576Z",
     "start_time": "2023-09-17T05:55:34.384932Z"
    }
   },
   "id": "a71fe00a97423a02"
  },
  {
   "cell_type": "code",
   "execution_count": 50,
   "outputs": [],
   "source": [
    "zipped = zip(seq1,seq2)"
   ],
   "metadata": {
    "collapsed": false,
    "ExecuteTime": {
     "end_time": "2023-09-17T05:55:34.449892Z",
     "start_time": "2023-09-17T05:55:34.387107Z"
    }
   },
   "id": "8e25b3a81c0b2415"
  },
  {
   "cell_type": "code",
   "execution_count": 51,
   "outputs": [
    {
     "data": {
      "text/plain": "[('foo', 'one'), ('bar', 'two'), ('baz', 'three')]"
     },
     "execution_count": 51,
     "metadata": {},
     "output_type": "execute_result"
    }
   ],
   "source": [
    "list(zipped)"
   ],
   "metadata": {
    "collapsed": false,
    "ExecuteTime": {
     "end_time": "2023-09-17T05:55:34.450500Z",
     "start_time": "2023-09-17T05:55:34.389658Z"
    }
   },
   "id": "8e526ed6ab78899b"
  },
  {
   "cell_type": "markdown",
   "source": [
    "##### zip 함수는 여러개의 순차 자료형을 받을 수 있고, 반환되는 리스트의 길이는 넘겨받은 순차자료형중 가장 짧은 길이를 가진다."
   ],
   "metadata": {
    "collapsed": false
   },
   "id": "1adbbda0c14a51cf"
  },
  {
   "cell_type": "code",
   "execution_count": 52,
   "outputs": [],
   "source": [
    "seq3 = [False,True]"
   ],
   "metadata": {
    "collapsed": false,
    "ExecuteTime": {
     "end_time": "2023-09-17T05:55:34.450658Z",
     "start_time": "2023-09-17T05:55:34.392614Z"
    }
   },
   "id": "cca0b0b140ea3f29"
  },
  {
   "cell_type": "code",
   "execution_count": 53,
   "outputs": [],
   "source": [
    "zipped = zip(seq1,seq2,seq3)"
   ],
   "metadata": {
    "collapsed": false,
    "ExecuteTime": {
     "end_time": "2023-09-17T05:55:34.451023Z",
     "start_time": "2023-09-17T05:55:34.395022Z"
    }
   },
   "id": "d85699be62c50334"
  },
  {
   "cell_type": "code",
   "execution_count": 54,
   "outputs": [
    {
     "data": {
      "text/plain": "[('foo', 'one', False), ('bar', 'two', True)]"
     },
     "execution_count": 54,
     "metadata": {},
     "output_type": "execute_result"
    }
   ],
   "source": [
    "list(zipped)"
   ],
   "metadata": {
    "collapsed": false,
    "ExecuteTime": {
     "end_time": "2023-09-17T05:55:34.451200Z",
     "start_time": "2023-09-17T05:55:34.397513Z"
    }
   },
   "id": "32c09cbac729da45"
  },
  {
   "cell_type": "markdown",
   "source": [
    "##### zip 함수는 여러 개의 순차 자료형을 동시에 순회할때 자주 사용되며, enumerate와 함께 사용되기도 한다."
   ],
   "metadata": {
    "collapsed": false
   },
   "id": "d435f4eb7d1ce83f"
  },
  {
   "cell_type": "code",
   "execution_count": 55,
   "outputs": [
    {
     "name": "stdout",
     "output_type": "stream",
     "text": [
      "0 : foo, one\n",
      "1 : bar, two\n",
      "2 : baz, three\n"
     ]
    }
   ],
   "source": [
    "for index,(a,b) in enumerate(zip(seq1,seq2)):\n",
    "    print(f\"{index} : {a}, {b}\")"
   ],
   "metadata": {
    "collapsed": false,
    "ExecuteTime": {
     "end_time": "2023-09-17T05:55:34.451539Z",
     "start_time": "2023-09-17T05:55:34.400495Z"
    }
   },
   "id": "f647c6dba1cbf4ca"
  },
  {
   "cell_type": "markdown",
   "source": [
    "##### zip 함수를 사용해서 짝지어진 순차 자료형을 다시 풀어낼 수도 있다."
   ],
   "metadata": {
    "collapsed": false
   },
   "id": "ff5e713c25a6ea12"
  },
  {
   "cell_type": "code",
   "execution_count": 56,
   "outputs": [],
   "source": [
    "pitchers = [('Nola','Ryan'),('Roger','Clemens'),('Schilling','Curt')]"
   ],
   "metadata": {
    "collapsed": false,
    "ExecuteTime": {
     "end_time": "2023-09-17T05:55:34.452289Z",
     "start_time": "2023-09-17T05:55:34.404733Z"
    }
   },
   "id": "38e0aa351e083764"
  },
  {
   "cell_type": "code",
   "execution_count": 57,
   "outputs": [],
   "source": [
    "first_name,last_name = zip(*pitchers)"
   ],
   "metadata": {
    "collapsed": false,
    "ExecuteTime": {
     "end_time": "2023-09-17T05:55:34.452344Z",
     "start_time": "2023-09-17T05:55:34.406814Z"
    }
   },
   "id": "b34fe8448f5567e1"
  },
  {
   "cell_type": "code",
   "execution_count": 58,
   "outputs": [
    {
     "data": {
      "text/plain": "('Nola', 'Roger', 'Schilling')"
     },
     "execution_count": 58,
     "metadata": {},
     "output_type": "execute_result"
    }
   ],
   "source": [
    "first_name"
   ],
   "metadata": {
    "collapsed": false,
    "ExecuteTime": {
     "end_time": "2023-09-17T05:55:34.453104Z",
     "start_time": "2023-09-17T05:55:34.409226Z"
    }
   },
   "id": "e81705e19721a7af"
  },
  {
   "cell_type": "code",
   "execution_count": 59,
   "outputs": [
    {
     "data": {
      "text/plain": "('Ryan', 'Clemens', 'Curt')"
     },
     "execution_count": 59,
     "metadata": {},
     "output_type": "execute_result"
    }
   ],
   "source": [
    "last_name"
   ],
   "metadata": {
    "collapsed": false,
    "ExecuteTime": {
     "end_time": "2023-09-17T05:55:34.453317Z",
     "start_time": "2023-09-17T05:55:34.412129Z"
    }
   },
   "id": "1e3c03701ef96e21"
  },
  {
   "cell_type": "markdown",
   "source": [
    "## reversed\n",
    "##### reversed는 순차자료형을 역순으로 순회한다."
   ],
   "metadata": {
    "collapsed": false
   },
   "id": "910e3c01a6099479"
  },
  {
   "cell_type": "code",
   "execution_count": 60,
   "outputs": [
    {
     "data": {
      "text/plain": "[9, 8, 7, 6, 5, 4, 3, 2, 1, 0]"
     },
     "execution_count": 60,
     "metadata": {},
     "output_type": "execute_result"
    }
   ],
   "source": [
    "list(reversed(range(10)))"
   ],
   "metadata": {
    "collapsed": false,
    "ExecuteTime": {
     "end_time": "2023-09-17T05:55:34.453692Z",
     "start_time": "2023-09-17T05:55:34.415091Z"
    }
   },
   "id": "b7b59cbce8b1df58"
  },
  {
   "cell_type": "markdown",
   "source": [
    "## 사전(Dict)형\n",
    "##### - 사전(dict)은 유연한 크기를 가지는 키-값 쌍으로 이루어진 복합 자료형으로, 키와 값은 모두 파이썬 객체이다.(스칼라 뿐 아니라 특정 객체값들도 사용 가능)\n",
    "##### - 사전을 생성하는 방법은 중괄호 {} 를 사용하여 콜론으로 구분된 키와 값을 둘러싸는 것이다."
   ],
   "metadata": {
    "collapsed": false
   },
   "id": "8f0110ed952288e6"
  },
  {
   "cell_type": "code",
   "execution_count": 66,
   "outputs": [],
   "source": [
    "empty_dict = {}"
   ],
   "metadata": {
    "collapsed": false,
    "ExecuteTime": {
     "end_time": "2023-09-17T05:55:45.095925Z",
     "start_time": "2023-09-17T05:55:45.089095Z"
    }
   },
   "id": "ac00c3742899e410"
  },
  {
   "cell_type": "code",
   "execution_count": 67,
   "outputs": [],
   "source": [
    "d1 = {'a':'some value','b' : [1,2,3,4]}"
   ],
   "metadata": {
    "collapsed": false,
    "ExecuteTime": {
     "end_time": "2023-09-17T05:55:45.397370Z",
     "start_time": "2023-09-17T05:55:45.390434Z"
    }
   },
   "id": "74badf9cfcfbe5fd"
  },
  {
   "cell_type": "code",
   "execution_count": 68,
   "outputs": [
    {
     "data": {
      "text/plain": "{'a': 'some value', 'b': [1, 2, 3, 4]}"
     },
     "execution_count": 68,
     "metadata": {},
     "output_type": "execute_result"
    }
   ],
   "source": [
    "d1"
   ],
   "metadata": {
    "collapsed": false,
    "ExecuteTime": {
     "end_time": "2023-09-17T05:55:45.782688Z",
     "start_time": "2023-09-17T05:55:45.778457Z"
    }
   },
   "id": "54ea30a9235d29a2"
  },
  {
   "cell_type": "code",
   "execution_count": 70,
   "outputs": [],
   "source": [
    "d1[7] = 'an integer'"
   ],
   "metadata": {
    "collapsed": false,
    "ExecuteTime": {
     "end_time": "2023-09-17T05:55:56.109090Z",
     "start_time": "2023-09-17T05:55:56.101231Z"
    }
   },
   "id": "d5e2e31ce16f99ee"
  },
  {
   "cell_type": "code",
   "execution_count": 71,
   "outputs": [
    {
     "data": {
      "text/plain": "{'a': 'some value', 'b': [1, 2, 3, 4], 7: 'an integer'}"
     },
     "execution_count": 71,
     "metadata": {},
     "output_type": "execute_result"
    }
   ],
   "source": [
    "d1"
   ],
   "metadata": {
    "collapsed": false,
    "ExecuteTime": {
     "end_time": "2023-09-17T05:55:58.844514Z",
     "start_time": "2023-09-17T05:55:58.828688Z"
    }
   },
   "id": "fd75cdce2e22dd95"
  },
  {
   "cell_type": "code",
   "execution_count": 72,
   "outputs": [
    {
     "data": {
      "text/plain": "[1, 2, 3, 4]"
     },
     "execution_count": 72,
     "metadata": {},
     "output_type": "execute_result"
    }
   ],
   "source": [
    "d1['b']"
   ],
   "metadata": {
    "collapsed": false,
    "ExecuteTime": {
     "end_time": "2023-09-17T05:58:19.098551Z",
     "start_time": "2023-09-17T05:58:19.077493Z"
    }
   },
   "id": "ec789c406bf301e9"
  },
  {
   "cell_type": "code",
   "execution_count": 73,
   "outputs": [
    {
     "data": {
      "text/plain": "False"
     },
     "execution_count": 73,
     "metadata": {},
     "output_type": "execute_result"
    }
   ],
   "source": [
    "'c' in d1"
   ],
   "metadata": {
    "collapsed": false,
    "ExecuteTime": {
     "end_time": "2023-09-17T05:58:24.519421Z",
     "start_time": "2023-09-17T05:58:24.510935Z"
    }
   },
   "id": "cc3ddf1100b92e9f"
  },
  {
   "cell_type": "code",
   "execution_count": 75,
   "outputs": [],
   "source": [
    "d1[4] = 'some value'"
   ],
   "metadata": {
    "collapsed": false,
    "ExecuteTime": {
     "end_time": "2023-09-17T06:00:42.550307Z",
     "start_time": "2023-09-17T06:00:42.544429Z"
    }
   },
   "id": "42db92f86c51221a"
  },
  {
   "cell_type": "code",
   "execution_count": 76,
   "outputs": [
    {
     "data": {
      "text/plain": "{'a': 'some value', 'b': [1, 2, 3, 4], 7: 'an integer', 4: 'some value'}"
     },
     "execution_count": 76,
     "metadata": {},
     "output_type": "execute_result"
    }
   ],
   "source": [
    "d1"
   ],
   "metadata": {
    "collapsed": false,
    "ExecuteTime": {
     "end_time": "2023-09-17T06:00:47.583373Z",
     "start_time": "2023-09-17T06:00:47.569953Z"
    }
   },
   "id": "e161857bc482eb07"
  },
  {
   "cell_type": "markdown",
   "source": [
    "### dict 의 삭제\n",
    "###### - del 예약어나 pop 메서드를 사용해서 사전의 값을 삭제할수 있다.\n",
    "##### del : 삭제하고 아무작업도 안함\n",
    "##### pop : 삭제후 삭제된 요소를 반환"
   ],
   "metadata": {
    "collapsed": false
   },
   "id": "453c9e4e3d4f0b34"
  },
  {
   "cell_type": "code",
   "execution_count": 78,
   "outputs": [],
   "source": [
    "del d1[4]"
   ],
   "metadata": {
    "collapsed": false,
    "ExecuteTime": {
     "end_time": "2023-09-17T06:01:03.817301Z",
     "start_time": "2023-09-17T06:01:03.808732Z"
    }
   },
   "id": "e3a05cec62b07125"
  },
  {
   "cell_type": "code",
   "execution_count": 79,
   "outputs": [
    {
     "data": {
      "text/plain": "{'a': 'some value', 'b': [1, 2, 3, 4], 7: 'an integer'}"
     },
     "execution_count": 79,
     "metadata": {},
     "output_type": "execute_result"
    }
   ],
   "source": [
    "d1"
   ],
   "metadata": {
    "collapsed": false,
    "ExecuteTime": {
     "end_time": "2023-09-17T06:01:09.183466Z",
     "start_time": "2023-09-17T06:01:09.163913Z"
    }
   },
   "id": "42c29c9c998c8fa6"
  },
  {
   "cell_type": "code",
   "execution_count": 80,
   "outputs": [],
   "source": [
    "ret = d1.pop(7)"
   ],
   "metadata": {
    "collapsed": false,
    "ExecuteTime": {
     "end_time": "2023-09-17T06:01:29.765752Z",
     "start_time": "2023-09-17T06:01:29.744645Z"
    }
   },
   "id": "e02b00079003676b"
  },
  {
   "cell_type": "code",
   "execution_count": 81,
   "outputs": [
    {
     "data": {
      "text/plain": "'an integer'"
     },
     "execution_count": 81,
     "metadata": {},
     "output_type": "execute_result"
    }
   ],
   "source": [
    "ret"
   ],
   "metadata": {
    "collapsed": false,
    "ExecuteTime": {
     "end_time": "2023-09-17T06:01:32.777667Z",
     "start_time": "2023-09-17T06:01:32.757335Z"
    }
   },
   "id": "5394c812692aa34b"
  },
  {
   "cell_type": "code",
   "execution_count": 82,
   "outputs": [
    {
     "data": {
      "text/plain": "{'a': 'some value', 'b': [1, 2, 3, 4]}"
     },
     "execution_count": 82,
     "metadata": {},
     "output_type": "execute_result"
    }
   ],
   "source": [
    "d1"
   ],
   "metadata": {
    "collapsed": false,
    "ExecuteTime": {
     "end_time": "2023-09-17T06:01:39.820001Z",
     "start_time": "2023-09-17T06:01:39.809954Z"
    }
   },
   "id": "e98f98aa34a23dcd"
  },
  {
   "cell_type": "markdown",
   "source": [
    "##### keys와 values 메서드는 각각 키와 값이 담긴 이터레이터를 반환한다."
   ],
   "metadata": {
    "collapsed": false
   },
   "id": "b1dac75aa18a0c8a"
  },
  {
   "cell_type": "code",
   "execution_count": 83,
   "outputs": [
    {
     "data": {
      "text/plain": "['a', 'b']"
     },
     "execution_count": 83,
     "metadata": {},
     "output_type": "execute_result"
    }
   ],
   "source": [
    "list(d1.keys())"
   ],
   "metadata": {
    "collapsed": false,
    "ExecuteTime": {
     "end_time": "2023-09-17T06:03:03.519183Z",
     "start_time": "2023-09-17T06:03:03.507840Z"
    }
   },
   "id": "98397af7cdbb0f9d"
  },
  {
   "cell_type": "code",
   "execution_count": 84,
   "outputs": [
    {
     "data": {
      "text/plain": "['some value', [1, 2, 3, 4]]"
     },
     "execution_count": 84,
     "metadata": {},
     "output_type": "execute_result"
    }
   ],
   "source": [
    "list(d1.values())"
   ],
   "metadata": {
    "collapsed": false,
    "ExecuteTime": {
     "end_time": "2023-09-17T06:03:09.727431Z",
     "start_time": "2023-09-17T06:03:09.717181Z"
    }
   },
   "id": "e5f51f51c1f2e8af"
  },
  {
   "cell_type": "markdown",
   "source": [
    "##### - update 메서드를 사용해서 다른 dict와 합칠수 있다."
   ],
   "metadata": {
    "collapsed": false
   },
   "id": "760f14649eaf7e16"
  },
  {
   "cell_type": "code",
   "execution_count": 85,
   "outputs": [],
   "source": [
    "d1.update({'b':'foo','c': 12})"
   ],
   "metadata": {
    "collapsed": false,
    "ExecuteTime": {
     "end_time": "2023-09-17T06:04:52.691392Z",
     "start_time": "2023-09-17T06:04:52.679896Z"
    }
   },
   "id": "997257206803f46c"
  },
  {
   "cell_type": "code",
   "execution_count": 86,
   "outputs": [
    {
     "data": {
      "text/plain": "{'a': 'some value', 'b': 'foo', 'c': 12}"
     },
     "execution_count": 86,
     "metadata": {},
     "output_type": "execute_result"
    }
   ],
   "source": [
    "d1"
   ],
   "metadata": {
    "collapsed": false,
    "ExecuteTime": {
     "end_time": "2023-09-17T06:04:54.379568Z",
     "start_time": "2023-09-17T06:04:54.364947Z"
    }
   },
   "id": "44de1d22d3eed751"
  },
  {
   "cell_type": "markdown",
   "source": [
    "## 순차 자료형에서 사전 생성하기\n",
    "##### - 두개의 순차 자료형의 각 원소를 짝지어서 사전으로 만들고자 할 때 아래와 같은 코드를 작성하게 될것이다."
   ],
   "metadata": {
    "collapsed": false
   },
   "id": "783dbc0dbda7ce9"
  },
  {
   "cell_type": "code",
   "execution_count": 152,
   "outputs": [
    {
     "ename": "NameError",
     "evalue": "name 'key_list' is not defined",
     "output_type": "error",
     "traceback": [
      "\u001B[0;31m---------------------------------------------------------------------------\u001B[0m",
      "\u001B[0;31mNameError\u001B[0m                                 Traceback (most recent call last)",
      "Cell \u001B[0;32mIn[152], line 2\u001B[0m\n\u001B[1;32m      1\u001B[0m mapping \u001B[38;5;241m=\u001B[39m {}\n\u001B[0;32m----> 2\u001B[0m \u001B[38;5;28;01mfor\u001B[39;00m key,value \u001B[38;5;129;01min\u001B[39;00m \u001B[38;5;28mzip\u001B[39m(\u001B[43mkey_list\u001B[49m,value_list):\n\u001B[1;32m      3\u001B[0m     mapping[key] \u001B[38;5;241m=\u001B[39m value\n",
      "\u001B[0;31mNameError\u001B[0m: name 'key_list' is not defined"
     ]
    }
   ],
   "source": [
    "mapping = {}\n",
    "for key,value in zip(key_list,value_list):\n",
    "    mapping[key] = value"
   ],
   "metadata": {
    "collapsed": false,
    "ExecuteTime": {
     "end_time": "2023-09-17T06:39:40.999083Z",
     "start_time": "2023-09-17T06:39:40.991941Z"
    }
   },
   "id": "9c8219bc3a9c1708"
  },
  {
   "cell_type": "code",
   "execution_count": 153,
   "outputs": [],
   "source": [
    "mapping = dict(zip(range(5),reversed(range(5))))"
   ],
   "metadata": {
    "collapsed": false,
    "ExecuteTime": {
     "end_time": "2023-09-17T06:39:41.620804Z",
     "start_time": "2023-09-17T06:39:41.596904Z"
    }
   },
   "id": "4686d81403bdc25d"
  },
  {
   "cell_type": "code",
   "execution_count": 154,
   "outputs": [
    {
     "data": {
      "text/plain": "{0: 4, 1: 3, 2: 2, 3: 1, 4: 0}"
     },
     "execution_count": 154,
     "metadata": {},
     "output_type": "execute_result"
    }
   ],
   "source": [
    "mapping"
   ],
   "metadata": {
    "collapsed": false,
    "ExecuteTime": {
     "end_time": "2023-09-17T06:39:41.803249Z",
     "start_time": "2023-09-17T06:39:41.788714Z"
    }
   },
   "id": "78c10e062143b569"
  },
  {
   "cell_type": "markdown",
   "source": [
    "## 기본 값\n",
    "##### - 사전이 제공하는 메소드 가운데 get과 pop은 지정된 key에 해당하는 값이 존재하지 않을 경우, 아래 나타낸 것과 같이 기본값을 반환하도록 작성할수 있다.\n",
    "value = some_dict.get(key,default_value)"
   ],
   "metadata": {
    "collapsed": false
   },
   "id": "2daef062a6c51e2"
  },
  {
   "cell_type": "markdown",
   "source": [
    "##### - get메서드는 기본적으로 해당 키가 존재하지 않을 경우 None을 반환하며, pop 메서드는 예외를 발생 시킨다.\n",
    "##### - 보통 사전에 값을 대입할 때는 리스트 같은 다른 컬렉션에 있는 값을 이용하는데, 예를 들어 여러 단어를 시작 글자에 따라 사전에 리스트로 저장하고 싶다면 아래와 같이 할 수 있다."
   ],
   "metadata": {
    "collapsed": false
   },
   "id": "e1c9b6b8797c0c03"
  },
  {
   "cell_type": "code",
   "execution_count": 155,
   "outputs": [],
   "source": [
    "words = ['apple','bat','bar','atom','book']"
   ],
   "metadata": {
    "collapsed": false,
    "ExecuteTime": {
     "end_time": "2023-09-17T06:39:42.352902Z",
     "start_time": "2023-09-17T06:39:42.332557Z"
    }
   },
   "id": "d5295451f510bdde"
  },
  {
   "cell_type": "code",
   "execution_count": 156,
   "outputs": [],
   "source": [
    "by_letter = {}"
   ],
   "metadata": {
    "collapsed": false,
    "ExecuteTime": {
     "end_time": "2023-09-17T06:39:42.514174Z",
     "start_time": "2023-09-17T06:39:42.506154Z"
    }
   },
   "id": "2582caa9e8cdb34f"
  },
  {
   "cell_type": "code",
   "execution_count": 157,
   "outputs": [],
   "source": [
    "for word in words:\n",
    "    letter = word[0]\n",
    "    if letter not in by_letter:\n",
    "        by_letter[letter] = [word]\n",
    "    else:\n",
    "        by_letter[letter].append(word)"
   ],
   "metadata": {
    "collapsed": false,
    "ExecuteTime": {
     "end_time": "2023-09-17T06:39:42.694200Z",
     "start_time": "2023-09-17T06:39:42.687830Z"
    }
   },
   "id": "91543b87e0ec3dc5"
  },
  {
   "cell_type": "code",
   "execution_count": 158,
   "outputs": [
    {
     "data": {
      "text/plain": "{'a': ['apple', 'atom'], 'b': ['bat', 'bar', 'book']}"
     },
     "execution_count": 158,
     "metadata": {},
     "output_type": "execute_result"
    }
   ],
   "source": [
    "by_letter"
   ],
   "metadata": {
    "collapsed": false,
    "ExecuteTime": {
     "end_time": "2023-09-17T06:39:43.070049Z",
     "start_time": "2023-09-17T06:39:43.063541Z"
    }
   },
   "id": "5d0649028b35fecb"
  },
  {
   "cell_type": "markdown",
   "source": [
    "## 유효한 사전 키\n",
    "##### - 사전의 키는 스칼라형 이나 튜플 처럼 값이 바뀌지 않는 객체만 가능하다.\n",
    "##### - 기술적으로는 해시 가능해야 한다는 뜻이다."
   ],
   "metadata": {
    "collapsed": false
   },
   "id": "766538d4666c832e"
  },
  {
   "cell_type": "code",
   "execution_count": 159,
   "outputs": [
    {
     "data": {
      "text/plain": "-4124741277419889604"
     },
     "execution_count": 159,
     "metadata": {},
     "output_type": "execute_result"
    }
   ],
   "source": [
    "hash('string')"
   ],
   "metadata": {
    "collapsed": false,
    "ExecuteTime": {
     "end_time": "2023-09-17T06:39:43.482813Z",
     "start_time": "2023-09-17T06:39:43.469203Z"
    }
   },
   "id": "22822affcc62157"
  },
  {
   "cell_type": "code",
   "execution_count": 160,
   "outputs": [
    {
     "data": {
      "text/plain": "-9209053662355515447"
     },
     "execution_count": 160,
     "metadata": {},
     "output_type": "execute_result"
    }
   ],
   "source": [
    "hash((1,2,(2,3)))"
   ],
   "metadata": {
    "collapsed": false,
    "ExecuteTime": {
     "end_time": "2023-09-17T06:39:43.703662Z",
     "start_time": "2023-09-17T06:39:43.690553Z"
    }
   },
   "id": "51c9bd70ac33602f"
  },
  {
   "cell_type": "markdown",
   "source": [
    "# 2교시 집합, 함수\n",
    " ##### - 집합 자료형의 특징을 이해하고 집합 자료형이 제공하는 집합 메서드를 사용할 수 있다.\n",
    " ##### - 리스트 표기법,집합 표기법, 사전 표기법을 사용하여 간결한 코드를 작성할수 있다.\n",
    " ##### - 함수를 정의 내려 사용할 수 있으며, 전역/지역 네임스페이스의 개념을 이해할수 있다.\n",
    " "
   ],
   "metadata": {
    "collapsed": false
   },
   "id": "44d130d9169f5e27"
  },
  {
   "cell_type": "markdown",
   "source": [
    "## 집합\n",
    "##### - 집합은 유일한 원소만 담는 정렬되지 않는 자료형이다.(색인이 없다, 순서가 없다.)\n",
    "##### - 집합은 set 함수를 이용하거나 값을 가지는 중괄호 {}를 이용해서 생성할수 있다."
   ],
   "metadata": {
    "collapsed": false
   },
   "id": "1294a97783e16408"
  },
  {
   "cell_type": "code",
   "execution_count": 161,
   "outputs": [
    {
     "data": {
      "text/plain": "{1, 2, 3}"
     },
     "execution_count": 161,
     "metadata": {},
     "output_type": "execute_result"
    }
   ],
   "source": [
    "set([2,2,2,1,3,3])"
   ],
   "metadata": {
    "collapsed": false,
    "ExecuteTime": {
     "end_time": "2023-09-17T06:39:44.316732Z",
     "start_time": "2023-09-17T06:39:44.310009Z"
    }
   },
   "id": "d343c731f9d05bea"
  },
  {
   "cell_type": "code",
   "execution_count": 162,
   "outputs": [
    {
     "data": {
      "text/plain": "{1, 2, 3, 4, 5}"
     },
     "execution_count": 162,
     "metadata": {},
     "output_type": "execute_result"
    }
   ],
   "source": [
    "{2,2,2,1,3,3,4,4,5}"
   ],
   "metadata": {
    "collapsed": false,
    "ExecuteTime": {
     "end_time": "2023-09-17T06:39:44.540008Z",
     "start_time": "2023-09-17T06:39:44.531179Z"
    }
   },
   "id": "532326adf64b32bf"
  },
  {
   "cell_type": "markdown",
   "source": [
    "##### - 집합은 합집합,교집합, 대칭 차집합 같은 산술 집합 연산을 제공한다.\n",
    "##### union(합집합), intersection(교집합)"
   ],
   "metadata": {
    "collapsed": false
   },
   "id": "1c3df5c1482925cb"
  },
  {
   "cell_type": "code",
   "execution_count": 163,
   "outputs": [],
   "source": [
    "a = {1,2,3,4,5}"
   ],
   "metadata": {
    "collapsed": false,
    "ExecuteTime": {
     "end_time": "2023-09-17T06:39:44.961459Z",
     "start_time": "2023-09-17T06:39:44.946149Z"
    }
   },
   "id": "8d8c7d3175c775cd"
  },
  {
   "cell_type": "code",
   "execution_count": 164,
   "outputs": [],
   "source": [
    "b = {3,4,5,6,7,8}"
   ],
   "metadata": {
    "collapsed": false,
    "ExecuteTime": {
     "end_time": "2023-09-17T06:39:45.162491Z",
     "start_time": "2023-09-17T06:39:45.154581Z"
    }
   },
   "id": "e1fe42073186fa7"
  },
  {
   "cell_type": "code",
   "execution_count": 165,
   "outputs": [
    {
     "data": {
      "text/plain": "{1, 2, 3, 4, 5, 6, 7, 8}"
     },
     "execution_count": 165,
     "metadata": {},
     "output_type": "execute_result"
    }
   ],
   "source": [
    "a.union(b)"
   ],
   "metadata": {
    "collapsed": false,
    "ExecuteTime": {
     "end_time": "2023-09-17T06:39:45.388607Z",
     "start_time": "2023-09-17T06:39:45.373018Z"
    }
   },
   "id": "fc02c16c918a8836"
  },
  {
   "cell_type": "code",
   "execution_count": 166,
   "outputs": [
    {
     "data": {
      "text/plain": "{1, 2, 3, 4, 5, 6, 7, 8}"
     },
     "execution_count": 166,
     "metadata": {},
     "output_type": "execute_result"
    }
   ],
   "source": [
    "a | b"
   ],
   "metadata": {
    "collapsed": false,
    "ExecuteTime": {
     "end_time": "2023-09-17T06:39:45.573973Z",
     "start_time": "2023-09-17T06:39:45.565727Z"
    }
   },
   "id": "54bdc95f0041cccd"
  },
  {
   "cell_type": "code",
   "execution_count": 167,
   "outputs": [
    {
     "data": {
      "text/plain": "{3, 4, 5}"
     },
     "execution_count": 167,
     "metadata": {},
     "output_type": "execute_result"
    }
   ],
   "source": [
    "a.intersection(b)"
   ],
   "metadata": {
    "collapsed": false,
    "ExecuteTime": {
     "end_time": "2023-09-17T06:39:45.785278Z",
     "start_time": "2023-09-17T06:39:45.772300Z"
    }
   },
   "id": "69a2a9b48677490f"
  },
  {
   "cell_type": "code",
   "execution_count": 168,
   "outputs": [
    {
     "data": {
      "text/plain": "{3, 4, 5}"
     },
     "execution_count": 168,
     "metadata": {},
     "output_type": "execute_result"
    }
   ],
   "source": [
    "a & b"
   ],
   "metadata": {
    "collapsed": false,
    "ExecuteTime": {
     "end_time": "2023-09-17T06:39:45.994748Z",
     "start_time": "2023-09-17T06:39:45.980975Z"
    }
   },
   "id": "8c9f6e7a91711800"
  },
  {
   "cell_type": "code",
   "execution_count": 169,
   "outputs": [],
   "source": [
    "c = a.copy()"
   ],
   "metadata": {
    "collapsed": false,
    "ExecuteTime": {
     "end_time": "2023-09-17T06:39:46.171100Z",
     "start_time": "2023-09-17T06:39:46.163500Z"
    }
   },
   "id": "1c7d8381221f86ed"
  },
  {
   "cell_type": "code",
   "execution_count": 170,
   "outputs": [],
   "source": [
    "c |= b"
   ],
   "metadata": {
    "collapsed": false,
    "ExecuteTime": {
     "end_time": "2023-09-17T06:39:46.377682Z",
     "start_time": "2023-09-17T06:39:46.363661Z"
    }
   },
   "id": "bf5cf03fdb395f91"
  },
  {
   "cell_type": "code",
   "execution_count": 171,
   "outputs": [
    {
     "data": {
      "text/plain": "{1, 2, 3, 4, 5, 6, 7, 8}"
     },
     "execution_count": 171,
     "metadata": {},
     "output_type": "execute_result"
    }
   ],
   "source": [
    "c"
   ],
   "metadata": {
    "collapsed": false,
    "ExecuteTime": {
     "end_time": "2023-09-17T06:39:46.563990Z",
     "start_time": "2023-09-17T06:39:46.555615Z"
    }
   },
   "id": "7f2a010d546d5ee"
  },
  {
   "cell_type": "markdown",
   "source": [
    "##### - 사전처럼 집합 원소들도 일반적으로 변경이 불가능해야 한다. 리스트를 집합의 원소로 담으려면 튜플로 변경해야 한다."
   ],
   "metadata": {
    "collapsed": false
   },
   "id": "ac6f6e86f42967c0"
  },
  {
   "cell_type": "code",
   "execution_count": 172,
   "outputs": [],
   "source": [
    "my_data = [1,2,3,4,5]"
   ],
   "metadata": {
    "collapsed": false,
    "ExecuteTime": {
     "end_time": "2023-09-17T06:39:46.958007Z",
     "start_time": "2023-09-17T06:39:46.943666Z"
    }
   },
   "id": "97418e98f0ab5c63"
  },
  {
   "cell_type": "code",
   "execution_count": 173,
   "outputs": [],
   "source": [
    "my_set = (tuple(my_data))"
   ],
   "metadata": {
    "collapsed": false,
    "ExecuteTime": {
     "end_time": "2023-09-17T06:39:47.175781Z",
     "start_time": "2023-09-17T06:39:47.167576Z"
    }
   },
   "id": "bea669831499e103"
  },
  {
   "cell_type": "code",
   "execution_count": 174,
   "outputs": [
    {
     "data": {
      "text/plain": "(1, 2, 3, 4, 5)"
     },
     "execution_count": 174,
     "metadata": {},
     "output_type": "execute_result"
    }
   ],
   "source": [
    "my_set"
   ],
   "metadata": {
    "collapsed": false,
    "ExecuteTime": {
     "end_time": "2023-09-17T06:39:47.371035Z",
     "start_time": "2023-09-17T06:39:47.356563Z"
    }
   },
   "id": "352ee75e07961c8c"
  },
  {
   "cell_type": "markdown",
   "source": [
    "##### - 어떤 집합이든 다른 집합의 부분집합(subset)인지 확대집합(superset)인지, 두 집합의 내용이 같은지 검사할수 있다."
   ],
   "metadata": {
    "collapsed": false
   },
   "id": "7f9267c271c24784"
  },
  {
   "cell_type": "code",
   "execution_count": 175,
   "outputs": [],
   "source": [
    "a_set = {1,2,3,4,5}"
   ],
   "metadata": {
    "collapsed": false,
    "ExecuteTime": {
     "end_time": "2023-09-17T06:39:48.512480Z",
     "start_time": "2023-09-17T06:39:48.496467Z"
    }
   },
   "id": "52bf7714a80d506a"
  },
  {
   "cell_type": "code",
   "execution_count": 176,
   "outputs": [
    {
     "data": {
      "text/plain": "False"
     },
     "execution_count": 176,
     "metadata": {},
     "output_type": "execute_result"
    }
   ],
   "source": [
    "{0,2,3}.issubset(a_set)"
   ],
   "metadata": {
    "collapsed": false,
    "ExecuteTime": {
     "end_time": "2023-09-17T06:39:48.698184Z",
     "start_time": "2023-09-17T06:39:48.690969Z"
    }
   },
   "id": "b40f8549e6cc18e5"
  },
  {
   "cell_type": "markdown",
   "source": [
    "## 리스트 표기법\n",
    "[expr for val in collection if condition]"
   ],
   "metadata": {
    "collapsed": false
   },
   "id": "be33b14972f817bd"
  },
  {
   "cell_type": "code",
   "execution_count": 177,
   "outputs": [],
   "source": [
    "strings = ['a','as','bat','car','dove','python']"
   ],
   "metadata": {
    "collapsed": false,
    "ExecuteTime": {
     "end_time": "2023-09-17T06:39:49.094980Z",
     "start_time": "2023-09-17T06:39:49.079670Z"
    }
   },
   "id": "f0ac379a6c8f31e7"
  },
  {
   "cell_type": "code",
   "execution_count": 178,
   "outputs": [
    {
     "data": {
      "text/plain": "['BAT', 'CAR', 'DOVE', 'PYTHON']"
     },
     "execution_count": 178,
     "metadata": {},
     "output_type": "execute_result"
    }
   ],
   "source": [
    "[x.upper() for x in strings if len(x) >2]"
   ],
   "metadata": {
    "collapsed": false,
    "ExecuteTime": {
     "end_time": "2023-09-17T06:39:49.299468Z",
     "start_time": "2023-09-17T06:39:49.291190Z"
    }
   },
   "id": "b5d177a1a1950542"
  },
  {
   "cell_type": "markdown",
   "source": [
    "## 집합 표기법\n",
    "###### - collection 객체에서 필터 조건에 부합하는 요소만 지정한 표현으로 변환(expr) 하여 새로운 집합으로 만드는 방법.(대괄호 대신 중괄호를 쓴다는 접만 빼면 리스트 표기법과 동일하다.)"
   ],
   "metadata": {
    "collapsed": false
   },
   "id": "b9e86acf7d1b63b9"
  },
  {
   "cell_type": "code",
   "execution_count": 179,
   "outputs": [],
   "source": [
    "unique_lengths = {len(x) for x in strings}"
   ],
   "metadata": {
    "collapsed": false,
    "ExecuteTime": {
     "end_time": "2023-09-17T06:39:49.864828Z",
     "start_time": "2023-09-17T06:39:49.858636Z"
    }
   },
   "id": "6925f4276c267f31"
  },
  {
   "cell_type": "code",
   "execution_count": 180,
   "outputs": [
    {
     "data": {
      "text/plain": "{1, 2, 3, 4, 6}"
     },
     "execution_count": 180,
     "metadata": {},
     "output_type": "execute_result"
    }
   ],
   "source": [
    "unique_lengths"
   ],
   "metadata": {
    "collapsed": false,
    "ExecuteTime": {
     "end_time": "2023-09-17T06:39:50.051542Z",
     "start_time": "2023-09-17T06:39:50.039757Z"
    }
   },
   "id": "b8187b424be51a4a"
  },
  {
   "cell_type": "markdown",
   "source": [
    "## 중첩된 리스트 표기법\n",
    "##### - 영어이름과 스페인어 이름 리스트를 담고 있는 리스트에서 알파벳 a가 두개 이상 포함된 이름의 리스트를 구하는 예시"
   ],
   "metadata": {
    "collapsed": false
   },
   "id": "c8abfc7e2f91ce1a"
  },
  {
   "cell_type": "code",
   "execution_count": 181,
   "outputs": [],
   "source": [
    "all_data = [['john','Emily','Michae','Mary','Steven'],\n",
    "            ['Maria','Juan','Javier','Natalia','Pilar']]"
   ],
   "metadata": {
    "collapsed": false,
    "ExecuteTime": {
     "end_time": "2023-09-17T06:44:02.828731Z",
     "start_time": "2023-09-17T06:44:02.790238Z"
    }
   },
   "id": "cd4dd462f2e2f30a"
  },
  {
   "cell_type": "code",
   "execution_count": 182,
   "outputs": [],
   "source": [
    "result = [name for names in all_data for name in names if name.count('a') >= 2]"
   ],
   "metadata": {
    "collapsed": false,
    "ExecuteTime": {
     "end_time": "2023-09-17T06:45:31.668219Z",
     "start_time": "2023-09-17T06:45:31.635248Z"
    }
   },
   "id": "a89f2cea09ee191"
  },
  {
   "cell_type": "code",
   "execution_count": 183,
   "outputs": [
    {
     "data": {
      "text/plain": "['Maria', 'Natalia']"
     },
     "execution_count": 183,
     "metadata": {},
     "output_type": "execute_result"
    }
   ],
   "source": [
    "result"
   ],
   "metadata": {
    "collapsed": false,
    "ExecuteTime": {
     "end_time": "2023-09-17T06:45:32.976381Z",
     "start_time": "2023-09-17T06:45:32.937895Z"
    }
   },
   "id": "8ea590f41d5bfccd"
  },
  {
   "cell_type": "markdown",
   "source": [
    "## 네임스페이스, 스코프, 지역함수\n",
    " - 함수는 전역과 지역, 두가지 스코프(scope, 영역, 네임스페이스)에서 변수를 참조한다.\n",
    "  - 함수 내부에서 선언된 변수는 기본적으로 지역 네임스페이스라고 속하고, 함수 외부에서 선언된 변수는 전역 네임스페이스에 속한다.\n",
    "  "
   ],
   "metadata": {
    "collapsed": false
   },
   "id": "e3494c4fcb9bad4e"
  },
  {
   "cell_type": "markdown",
   "source": [
    "# 3교시 - 파일과 운영체제\n",
    "- 익명함수를 정의 내리고 사용할수 있다.\n",
    "- 함수에서 일부 인자만 취하는 커링을 통해 새로운 함수를 생성할 수 잇다.\n",
    "- 제너레이터를 정의 내리고 사용할 수 있다.\n",
    "- 디스크로부터 파일을 읽어와 파이썬 자료구조에 저장할수 있다."
   ],
   "metadata": {
    "collapsed": false
   },
   "id": "71db362e1744140d"
  },
  {
   "cell_type": "markdown",
   "source": [
    "## 익명 함수(람다 함수)\n",
    "- lambda 예약어로 정의하며, 람다 함수라고 불림\n",
    "- 값을 반환하는 단순한 한 문장으로 이루어진 함수\n",
    "사용 예 )equiv_anon = lambda x:x * 2"
   ],
   "metadata": {
    "collapsed": false
   },
   "id": "f075d19d904d205e"
  },
  {
   "cell_type": "code",
   "execution_count": 185,
   "outputs": [],
   "source": [
    "strings = ['foo','card','bar','aaa','abab']"
   ],
   "metadata": {
    "collapsed": false,
    "ExecuteTime": {
     "end_time": "2023-09-17T07:06:05.944320Z",
     "start_time": "2023-09-17T07:06:05.901467Z"
    }
   },
   "id": "7e74dfcce5c89669"
  },
  {
   "cell_type": "code",
   "execution_count": 193,
   "outputs": [],
   "source": [
    "strings.sort(key=lambda x:len(set(list(x))))"
   ],
   "metadata": {
    "collapsed": false,
    "ExecuteTime": {
     "end_time": "2023-09-17T07:11:31.792091Z",
     "start_time": "2023-09-17T07:11:31.775380Z"
    }
   },
   "id": "e8c1b8a320d58d65"
  },
  {
   "cell_type": "code",
   "execution_count": 190,
   "outputs": [
    {
     "data": {
      "text/plain": "['aaa', 'abab', 'bar', 'card', 'foo']"
     },
     "execution_count": 190,
     "metadata": {},
     "output_type": "execute_result"
    }
   ],
   "source": [
    "strings"
   ],
   "metadata": {
    "collapsed": false,
    "ExecuteTime": {
     "end_time": "2023-09-17T07:11:09.210590Z",
     "start_time": "2023-09-17T07:11:09.192997Z"
    }
   },
   "id": "d52e157738796b8c"
  },
  {
   "cell_type": "markdown",
   "source": [
    "## 커링 : 일부 인자만 취하기\n",
    "- 함수에서 일부 인자만 취하는 형태로 새로운 함수를 만드는 기법"
   ],
   "metadata": {
    "collapsed": false
   },
   "id": "bac4d86e27727235"
  },
  {
   "cell_type": "markdown",
   "source": [
    "## 이터레이터\n",
    "- 이터레이터 프로토콜 : 순차적인 자료를 하나씩 차례대로 반환하는 동작"
   ],
   "metadata": {
    "collapsed": false
   },
   "id": "f073fa31a8669349"
  },
  {
   "cell_type": "code",
   "execution_count": 195,
   "outputs": [],
   "source": [
    "some_dict = {'a':1,'b':2,'c':3}"
   ],
   "metadata": {
    "collapsed": false,
    "ExecuteTime": {
     "end_time": "2023-09-17T07:14:12.941272Z",
     "start_time": "2023-09-17T07:14:12.925755Z"
    }
   },
   "id": "d9c7ba1ae771b04a"
  },
  {
   "cell_type": "code",
   "execution_count": 196,
   "outputs": [
    {
     "name": "stdout",
     "output_type": "stream",
     "text": [
      "a\n",
      "b\n",
      "c\n"
     ]
    }
   ],
   "source": [
    "for key in some_dict:\n",
    "    print(key)"
   ],
   "metadata": {
    "collapsed": false,
    "ExecuteTime": {
     "end_time": "2023-09-17T07:14:26.187415Z",
     "start_time": "2023-09-17T07:14:26.154504Z"
    }
   },
   "id": "96d8d449148d2c56"
  },
  {
   "cell_type": "code",
   "execution_count": 197,
   "outputs": [],
   "source": [
    "dict_iterator = iter(some_dict)"
   ],
   "metadata": {
    "collapsed": false,
    "ExecuteTime": {
     "end_time": "2023-09-17T07:15:26.151653Z",
     "start_time": "2023-09-17T07:15:26.117214Z"
    }
   },
   "id": "34ad97a3bdd3b91"
  },
  {
   "cell_type": "code",
   "execution_count": 198,
   "outputs": [
    {
     "data": {
      "text/plain": "<dict_keyiterator at 0x11177e3b0>"
     },
     "execution_count": 198,
     "metadata": {},
     "output_type": "execute_result"
    }
   ],
   "source": [
    "dict_iterator"
   ],
   "metadata": {
    "collapsed": false,
    "ExecuteTime": {
     "end_time": "2023-09-17T07:15:31.698896Z",
     "start_time": "2023-09-17T07:15:31.651270Z"
    }
   },
   "id": "40f6f1b982d524f4"
  },
  {
   "cell_type": "code",
   "execution_count": 201,
   "outputs": [
    {
     "data": {
      "text/plain": "[]"
     },
     "execution_count": 201,
     "metadata": {},
     "output_type": "execute_result"
    }
   ],
   "source": [
    "list(dict_iterator)"
   ],
   "metadata": {
    "collapsed": false,
    "ExecuteTime": {
     "end_time": "2023-09-17T07:18:28.833927Z",
     "start_time": "2023-09-17T07:18:28.807487Z"
    }
   },
   "id": "1416943d6032527e"
  },
  {
   "cell_type": "code",
   "execution_count": 202,
   "outputs": [
    {
     "data": {
      "text/plain": "dict_keyiterator"
     },
     "execution_count": 202,
     "metadata": {},
     "output_type": "execute_result"
    }
   ],
   "source": [
    "type(dict_iterator)"
   ],
   "metadata": {
    "collapsed": false,
    "ExecuteTime": {
     "end_time": "2023-09-17T07:18:36.148136Z",
     "start_time": "2023-09-17T07:18:36.134080Z"
    }
   },
   "id": "6af5249cc46d43d6"
  },
  {
   "cell_type": "markdown",
   "source": [
    "## 제너레이터 \n",
    "- 호출 될때 순차적인 자료를 발생시켜 차례대로 반환하는 함수\n",
    "  - 제너레이터를 생성하려면 함수에서 return 을 하는 대신 yield 예약어를 사용한다."
   ],
   "metadata": {
    "collapsed": false
   },
   "id": "c60ca9c985991e17"
  },
  {
   "cell_type": "code",
   "execution_count": 218,
   "outputs": [],
   "source": [
    "def squares(n=12):\n",
    "    print(\"Generating squares from 1 to {0}\".format(n ** 2))\n",
    "    for i in range(1,n + 1):\n",
    "        yield i ** 2;"
   ],
   "metadata": {
    "collapsed": false,
    "ExecuteTime": {
     "end_time": "2023-09-17T07:22:18.770273Z",
     "start_time": "2023-09-17T07:22:18.749049Z"
    }
   },
   "id": "ea24f5447f28a6f9"
  },
  {
   "cell_type": "code",
   "execution_count": 219,
   "outputs": [],
   "source": [
    "gen = squares()"
   ],
   "metadata": {
    "collapsed": false,
    "ExecuteTime": {
     "end_time": "2023-09-17T07:22:19.255163Z",
     "start_time": "2023-09-17T07:22:19.242154Z"
    }
   },
   "id": "4616c9cadec011b5"
  },
  {
   "cell_type": "code",
   "execution_count": 220,
   "outputs": [
    {
     "data": {
      "text/plain": "<generator object squares at 0x1117c69e0>"
     },
     "execution_count": 220,
     "metadata": {},
     "output_type": "execute_result"
    }
   ],
   "source": [
    "gen"
   ],
   "metadata": {
    "collapsed": false,
    "ExecuteTime": {
     "end_time": "2023-09-17T07:22:19.529176Z",
     "start_time": "2023-09-17T07:22:19.498128Z"
    }
   },
   "id": "8735c5de3f227336"
  },
  {
   "cell_type": "code",
   "execution_count": 221,
   "outputs": [
    {
     "name": "stdout",
     "output_type": "stream",
     "text": [
      "Generating squares from 1 to 144\n",
      "1 4 9 16 25 36 49 64 81 100 121 144 "
     ]
    }
   ],
   "source": [
    "for x in gen : \n",
    "    print(x,end = ' ')"
   ],
   "metadata": {
    "collapsed": false,
    "ExecuteTime": {
     "end_time": "2023-09-17T07:22:19.830353Z",
     "start_time": "2023-09-17T07:22:19.810853Z"
    }
   },
   "id": "3a0c87afb041ce3e"
  },
  {
   "cell_type": "markdown",
   "source": [
    "## 제너레이터 표기법\n",
    "- 리스트 표기법에서 대괄호를 사용하였듯이 소괄호()를 사용해서 제너레이터 표기법을 사용할 수 있다.\n",
    "generator_obj = (expr for val in collection if condition)"
   ],
   "metadata": {
    "collapsed": false
   },
   "id": "72647f416876b3da"
  },
  {
   "cell_type": "code",
   "execution_count": 222,
   "outputs": [],
   "source": [
    "gen = (x ** 2 for x in range(100))"
   ],
   "metadata": {
    "collapsed": false,
    "ExecuteTime": {
     "end_time": "2023-09-17T07:24:01.174420Z",
     "start_time": "2023-09-17T07:24:01.114900Z"
    }
   },
   "id": "cf5a4d92a2c6ae11"
  },
  {
   "cell_type": "code",
   "execution_count": 223,
   "outputs": [
    {
     "data": {
      "text/plain": "<generator object <genexpr> at 0x1117c6eb0>"
     },
     "execution_count": 223,
     "metadata": {},
     "output_type": "execute_result"
    }
   ],
   "source": [
    "gen"
   ],
   "metadata": {
    "collapsed": false,
    "ExecuteTime": {
     "end_time": "2023-09-17T07:24:03.759167Z",
     "start_time": "2023-09-17T07:24:03.709244Z"
    }
   },
   "id": "d0aa786652d79e03"
  },
  {
   "cell_type": "code",
   "execution_count": 224,
   "outputs": [
    {
     "name": "stdout",
     "output_type": "stream",
     "text": [
      "0\n",
      "1\n",
      "4\n",
      "9\n",
      "16\n",
      "25\n",
      "36\n",
      "49\n",
      "64\n",
      "81\n",
      "100\n",
      "121\n",
      "144\n",
      "169\n",
      "196\n",
      "225\n",
      "256\n",
      "289\n",
      "324\n",
      "361\n",
      "400\n",
      "441\n",
      "484\n",
      "529\n",
      "576\n",
      "625\n",
      "676\n",
      "729\n",
      "784\n",
      "841\n",
      "900\n",
      "961\n",
      "1024\n",
      "1089\n",
      "1156\n",
      "1225\n",
      "1296\n",
      "1369\n",
      "1444\n",
      "1521\n",
      "1600\n",
      "1681\n",
      "1764\n",
      "1849\n",
      "1936\n",
      "2025\n",
      "2116\n",
      "2209\n",
      "2304\n",
      "2401\n",
      "2500\n",
      "2601\n",
      "2704\n",
      "2809\n",
      "2916\n",
      "3025\n",
      "3136\n",
      "3249\n",
      "3364\n",
      "3481\n",
      "3600\n",
      "3721\n",
      "3844\n",
      "3969\n",
      "4096\n",
      "4225\n",
      "4356\n",
      "4489\n",
      "4624\n",
      "4761\n",
      "4900\n",
      "5041\n",
      "5184\n",
      "5329\n",
      "5476\n",
      "5625\n",
      "5776\n",
      "5929\n",
      "6084\n",
      "6241\n",
      "6400\n",
      "6561\n",
      "6724\n",
      "6889\n",
      "7056\n",
      "7225\n",
      "7396\n",
      "7569\n",
      "7744\n",
      "7921\n",
      "8100\n",
      "8281\n",
      "8464\n",
      "8649\n",
      "8836\n",
      "9025\n",
      "9216\n",
      "9409\n",
      "9604\n",
      "9801\n"
     ]
    }
   ],
   "source": [
    "for x in gen:\n",
    "    print(x)"
   ],
   "metadata": {
    "collapsed": false,
    "ExecuteTime": {
     "end_time": "2023-09-17T07:24:15.732675Z",
     "start_time": "2023-09-17T07:24:15.692212Z"
    }
   },
   "id": "f71f3e58390211a1"
  },
  {
   "cell_type": "code",
   "execution_count": null,
   "outputs": [],
   "source": [],
   "metadata": {
    "collapsed": false
   },
   "id": "4c92297c9ffab60"
  }
 ],
 "metadata": {
  "kernelspec": {
   "display_name": "Python 3",
   "language": "python",
   "name": "python3"
  },
  "language_info": {
   "codemirror_mode": {
    "name": "ipython",
    "version": 2
   },
   "file_extension": ".py",
   "mimetype": "text/x-python",
   "name": "python",
   "nbconvert_exporter": "python",
   "pygments_lexer": "ipython2",
   "version": "2.7.6"
  }
 },
 "nbformat": 4,
 "nbformat_minor": 5
}
