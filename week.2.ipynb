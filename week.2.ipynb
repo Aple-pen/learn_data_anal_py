{
 "cells": [
  {
   "cell_type": "markdown",
   "source": [
    "# 날짜와 시간"
   ],
   "metadata": {
    "collapsed": false
   },
   "id": "1ba2ea6231821fe4"
  },
  {
   "cell_type": "code",
   "execution_count": 1,
   "outputs": [],
   "source": [
    "from datetime import datetime,date,time"
   ],
   "metadata": {
    "collapsed": false,
    "ExecuteTime": {
     "end_time": "2023-09-09T08:45:14.383602Z",
     "start_time": "2023-09-09T08:45:14.375629Z"
    }
   },
   "id": "1f421afce1eb6cbe"
  },
  {
   "cell_type": "code",
   "execution_count": 2,
   "outputs": [],
   "source": [
    "dt = datetime(2011,10,29,20,30,21)"
   ],
   "metadata": {
    "collapsed": false,
    "ExecuteTime": {
     "end_time": "2023-09-09T08:45:22.754301Z",
     "start_time": "2023-09-09T08:45:22.749014Z"
    }
   },
   "id": "eda2bae0104c8251"
  },
  {
   "cell_type": "code",
   "execution_count": 3,
   "outputs": [
    {
     "data": {
      "text/plain": "29"
     },
     "execution_count": 3,
     "metadata": {},
     "output_type": "execute_result"
    }
   ],
   "source": [
    "dt.day"
   ],
   "metadata": {
    "collapsed": false,
    "ExecuteTime": {
     "end_time": "2023-09-09T08:45:29.405605Z",
     "start_time": "2023-09-09T08:45:29.392419Z"
    }
   },
   "id": "2b5b28b4a6806962"
  },
  {
   "cell_type": "code",
   "execution_count": 4,
   "outputs": [
    {
     "data": {
      "text/plain": "30"
     },
     "execution_count": 4,
     "metadata": {},
     "output_type": "execute_result"
    }
   ],
   "source": [
    "dt.minute"
   ],
   "metadata": {
    "collapsed": false,
    "ExecuteTime": {
     "end_time": "2023-09-09T08:45:33.906685Z",
     "start_time": "2023-09-09T08:45:33.900440Z"
    }
   },
   "id": "6cacc932fb7bd684"
  },
  {
   "cell_type": "code",
   "execution_count": 7,
   "outputs": [
    {
     "data": {
      "text/plain": "datetime.date(2011, 10, 29)"
     },
     "execution_count": 7,
     "metadata": {},
     "output_type": "execute_result"
    }
   ],
   "source": [
    "dt.date()"
   ],
   "metadata": {
    "collapsed": false,
    "ExecuteTime": {
     "end_time": "2023-09-09T08:45:58.193702Z",
     "start_time": "2023-09-09T08:45:58.188870Z"
    }
   },
   "id": "f9fbf901e7761140"
  },
  {
   "cell_type": "code",
   "execution_count": 8,
   "outputs": [],
   "source": [
    "s='python'"
   ],
   "metadata": {
    "collapsed": false,
    "ExecuteTime": {
     "end_time": "2023-09-09T11:43:37.495539Z",
     "start_time": "2023-09-09T11:43:37.486055Z"
    }
   },
   "id": "3d9ebd1c7c08bc45"
  },
  {
   "cell_type": "code",
   "execution_count": 9,
   "outputs": [
    {
     "name": "stdout",
     "output_type": "stream",
     "text": [
      "['p', 'y', 't', 'h', 'o', 'n']\n"
     ]
    }
   ],
   "source": [
    "print(list(s))"
   ],
   "metadata": {
    "collapsed": false,
    "ExecuteTime": {
     "end_time": "2023-09-09T11:43:42.998321Z",
     "start_time": "2023-09-09T11:43:42.985119Z"
    }
   },
   "id": "4dc1472437d6f9e9"
  },
  {
   "cell_type": "code",
   "execution_count": 10,
   "outputs": [
    {
     "name": "stdout",
     "output_type": "stream",
     "text": [
      "Positive and larger than or equal to 5\n"
     ]
    }
   ],
   "source": [
    "x=5\n",
    "if x<0:\n",
    "    print(\"it's negative\")\n",
    "elif x == 0:\n",
    "    print(\"Equal to zero\")\n",
    "elif 0<x<5:\n",
    "    print(\"Positive but smaller than 5\")\n",
    "else:\n",
    "    print(\"Positive and larger than or equal to 5\")"
   ],
   "metadata": {
    "collapsed": false,
    "ExecuteTime": {
     "end_time": "2023-09-09T11:44:51.622566Z",
     "start_time": "2023-09-09T11:44:51.616175Z"
    }
   },
   "id": "90288ad64e329621"
  },
  {
   "cell_type": "code",
   "execution_count": 11,
   "outputs": [
    {
     "name": "stdout",
     "output_type": "stream",
     "text": [
      "15\n"
     ]
    }
   ],
   "source": [
    "sequence = [1,2,0,4,6,2,5,1]\n",
    "total = 0\n",
    "for value in sequence:\n",
    "    if value == 5:\n",
    "        break;\n",
    "    total += value\n",
    "print(total)"
   ],
   "metadata": {
    "collapsed": false,
    "ExecuteTime": {
     "end_time": "2023-09-09T11:45:51.993711Z",
     "start_time": "2023-09-09T11:45:51.982148Z"
    }
   },
   "id": "503e9ca107e1d8c2"
  },
  {
   "cell_type": "code",
   "execution_count": 12,
   "outputs": [
    {
     "name": "stdout",
     "output_type": "stream",
     "text": [
      "0 0\n",
      "1 0\n",
      "1 1\n",
      "2 0\n",
      "2 1\n",
      "2 2\n"
     ]
    }
   ],
   "source": [
    "for i in range(3):\n",
    "    for j in range(3):\n",
    "        if j>i:\n",
    "            break\n",
    "        print(i,j)"
   ],
   "metadata": {
    "collapsed": false,
    "ExecuteTime": {
     "end_time": "2023-09-09T11:46:22.112971Z",
     "start_time": "2023-09-09T11:46:22.098106Z"
    }
   },
   "id": "428f71a222a21a47"
  },
  {
   "cell_type": "code",
   "execution_count": 13,
   "outputs": [],
   "source": [
    "b_list = [\"foo\",\"foo\",\"red\",\"bar\",\"baz\",\"foo\"]\n",
    "b_list.remove(\"foo\")"
   ],
   "metadata": {
    "collapsed": false,
    "ExecuteTime": {
     "end_time": "2023-09-09T11:46:58.454274Z",
     "start_time": "2023-09-09T11:46:58.447748Z"
    }
   },
   "id": "a54c790c2aab6a48"
  },
  {
   "cell_type": "code",
   "execution_count": 14,
   "outputs": [
    {
     "name": "stdout",
     "output_type": "stream",
     "text": [
      "['foo', 'red', 'bar', 'baz', 'foo']\n"
     ]
    }
   ],
   "source": [
    "print(b_list)"
   ],
   "metadata": {
    "collapsed": false,
    "ExecuteTime": {
     "end_time": "2023-09-09T11:47:01.919035Z",
     "start_time": "2023-09-09T11:47:01.912096Z"
    }
   },
   "id": "59dbbcf71f80bca6"
  },
  {
   "cell_type": "code",
   "execution_count": 15,
   "outputs": [
    {
     "ename": "IndentationError",
     "evalue": "expected an indented block (407561478.py, line 2)",
     "output_type": "error",
     "traceback": [
      "\u001B[0;36m  Cell \u001B[0;32mIn[15], line 2\u001B[0;36m\u001B[0m\n\u001B[0;31m    \u001B[0m\n\u001B[0m    ^\u001B[0m\n\u001B[0;31mIndentationError\u001B[0m\u001B[0;31m:\u001B[0m expected an indented block\n"
     ]
    }
   ],
   "source": [
    "def test():\n",
    "    "
   ],
   "metadata": {
    "collapsed": false,
    "ExecuteTime": {
     "end_time": "2023-09-09T11:48:32.154861Z",
     "start_time": "2023-09-09T11:48:32.141999Z"
    }
   },
   "id": "d695cafeff4aae2a"
  },
  {
   "cell_type": "code",
   "execution_count": null,
   "outputs": [],
   "source": [],
   "metadata": {
    "collapsed": false
   },
   "id": "7aa4b21e70c8cafd"
  }
 ],
 "metadata": {
  "kernelspec": {
   "display_name": "Python 3",
   "language": "python",
   "name": "python3"
  },
  "language_info": {
   "codemirror_mode": {
    "name": "ipython",
    "version": 2
   },
   "file_extension": ".py",
   "mimetype": "text/x-python",
   "name": "python",
   "nbconvert_exporter": "python",
   "pygments_lexer": "ipython2",
   "version": "2.7.6"
  }
 },
 "nbformat": 4,
 "nbformat_minor": 5
}
